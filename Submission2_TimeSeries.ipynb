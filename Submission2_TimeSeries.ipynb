{
  "nbformat": 4,
  "nbformat_minor": 0,
  "metadata": {
    "colab": {
      "provenance": []
    },
    "kernelspec": {
      "name": "python3",
      "display_name": "Python 3"
    },
    "language_info": {
      "name": "python"
    }
  },
  "cells": [
    {
      "cell_type": "markdown",
      "source": [
        "# Import Dataset from Kaggle"
      ],
      "metadata": {
        "id": "trxIvRa0Xiya"
      }
    },
    {
      "cell_type": "code",
      "source": [
        "!kaggle datasets download -d aayushkandpal/air-quality-time-series-data-uci"
      ],
      "metadata": {
        "colab": {
          "base_uri": "https://localhost:8080/"
        },
        "id": "6tjFGFdi7ljT",
        "outputId": "511d7b48-91b0-4b5f-c555-3067e586a259"
      },
      "execution_count": 3,
      "outputs": [
        {
          "output_type": "stream",
          "name": "stdout",
          "text": [
            "Downloading air-quality-time-series-data-uci.zip to /content\n",
            "\r  0% 0.00/1.23M [00:00<?, ?B/s]\n",
            "\r100% 1.23M/1.23M [00:00<00:00, 135MB/s]\n"
          ]
        }
      ]
    },
    {
      "cell_type": "code",
      "source": [
        "import zipfile\n",
        "zip_ref = zipfile.ZipFile('/content/air-quality-time-series-data-uci.zip', 'r')\n",
        "zip_ref.extractall('tmp')\n",
        "zip_ref.close()"
      ],
      "metadata": {
        "id": "m_wuKPyb8rDR"
      },
      "execution_count": 1,
      "outputs": []
    },
    {
      "cell_type": "code",
      "source": [
        "import pandas as pd\n",
        "df = pd.read_excel('/content/tmp/AirQualityUCI.xlsx')\n",
        "df.head()"
      ],
      "metadata": {
        "colab": {
          "base_uri": "https://localhost:8080/",
          "height": 357
        },
        "id": "oLmmFBJs9D_B",
        "outputId": "f7e1fc3f-11dd-4cfe-c8ea-e12c276fdad8"
      },
      "execution_count": 2,
      "outputs": [
        {
          "output_type": "execute_result",
          "data": {
            "text/plain": [
              "        Date      Time  CO(GT)  PT08.S1(CO)  NMHC(GT)   C6H6(GT)  \\\n",
              "0 2004-03-10  18:00:00     2.6      1360.00       150  11.881723   \n",
              "1 2004-03-10  19:00:00     2.0      1292.25       112   9.397165   \n",
              "2 2004-03-10  20:00:00     2.2      1402.00        88   8.997817   \n",
              "3 2004-03-10  21:00:00     2.2      1375.50        80   9.228796   \n",
              "4 2004-03-10  22:00:00     1.6      1272.25        51   6.518224   \n",
              "\n",
              "   PT08.S2(NMHC)  NOx(GT)  PT08.S3(NOx)  NO2(GT)  PT08.S4(NO2)  PT08.S5(O3)  \\\n",
              "0        1045.50    166.0       1056.25    113.0       1692.00      1267.50   \n",
              "1         954.75    103.0       1173.75     92.0       1558.75       972.25   \n",
              "2         939.25    131.0       1140.00    114.0       1554.50      1074.00   \n",
              "3         948.25    172.0       1092.00    122.0       1583.75      1203.25   \n",
              "4         835.50    131.0       1205.00    116.0       1490.00      1110.00   \n",
              "\n",
              "       T         RH        AH  \n",
              "0  13.60  48.875001  0.757754  \n",
              "1  13.30  47.700000  0.725487  \n",
              "2  11.90  53.975000  0.750239  \n",
              "3  11.00  60.000000  0.786713  \n",
              "4  11.15  59.575001  0.788794  "
            ],
            "text/html": [
              "\n",
              "  <div id=\"df-0019a040-147a-4421-b189-709c40c85c68\">\n",
              "    <div class=\"colab-df-container\">\n",
              "      <div>\n",
              "<style scoped>\n",
              "    .dataframe tbody tr th:only-of-type {\n",
              "        vertical-align: middle;\n",
              "    }\n",
              "\n",
              "    .dataframe tbody tr th {\n",
              "        vertical-align: top;\n",
              "    }\n",
              "\n",
              "    .dataframe thead th {\n",
              "        text-align: right;\n",
              "    }\n",
              "</style>\n",
              "<table border=\"1\" class=\"dataframe\">\n",
              "  <thead>\n",
              "    <tr style=\"text-align: right;\">\n",
              "      <th></th>\n",
              "      <th>Date</th>\n",
              "      <th>Time</th>\n",
              "      <th>CO(GT)</th>\n",
              "      <th>PT08.S1(CO)</th>\n",
              "      <th>NMHC(GT)</th>\n",
              "      <th>C6H6(GT)</th>\n",
              "      <th>PT08.S2(NMHC)</th>\n",
              "      <th>NOx(GT)</th>\n",
              "      <th>PT08.S3(NOx)</th>\n",
              "      <th>NO2(GT)</th>\n",
              "      <th>PT08.S4(NO2)</th>\n",
              "      <th>PT08.S5(O3)</th>\n",
              "      <th>T</th>\n",
              "      <th>RH</th>\n",
              "      <th>AH</th>\n",
              "    </tr>\n",
              "  </thead>\n",
              "  <tbody>\n",
              "    <tr>\n",
              "      <th>0</th>\n",
              "      <td>2004-03-10</td>\n",
              "      <td>18:00:00</td>\n",
              "      <td>2.6</td>\n",
              "      <td>1360.00</td>\n",
              "      <td>150</td>\n",
              "      <td>11.881723</td>\n",
              "      <td>1045.50</td>\n",
              "      <td>166.0</td>\n",
              "      <td>1056.25</td>\n",
              "      <td>113.0</td>\n",
              "      <td>1692.00</td>\n",
              "      <td>1267.50</td>\n",
              "      <td>13.60</td>\n",
              "      <td>48.875001</td>\n",
              "      <td>0.757754</td>\n",
              "    </tr>\n",
              "    <tr>\n",
              "      <th>1</th>\n",
              "      <td>2004-03-10</td>\n",
              "      <td>19:00:00</td>\n",
              "      <td>2.0</td>\n",
              "      <td>1292.25</td>\n",
              "      <td>112</td>\n",
              "      <td>9.397165</td>\n",
              "      <td>954.75</td>\n",
              "      <td>103.0</td>\n",
              "      <td>1173.75</td>\n",
              "      <td>92.0</td>\n",
              "      <td>1558.75</td>\n",
              "      <td>972.25</td>\n",
              "      <td>13.30</td>\n",
              "      <td>47.700000</td>\n",
              "      <td>0.725487</td>\n",
              "    </tr>\n",
              "    <tr>\n",
              "      <th>2</th>\n",
              "      <td>2004-03-10</td>\n",
              "      <td>20:00:00</td>\n",
              "      <td>2.2</td>\n",
              "      <td>1402.00</td>\n",
              "      <td>88</td>\n",
              "      <td>8.997817</td>\n",
              "      <td>939.25</td>\n",
              "      <td>131.0</td>\n",
              "      <td>1140.00</td>\n",
              "      <td>114.0</td>\n",
              "      <td>1554.50</td>\n",
              "      <td>1074.00</td>\n",
              "      <td>11.90</td>\n",
              "      <td>53.975000</td>\n",
              "      <td>0.750239</td>\n",
              "    </tr>\n",
              "    <tr>\n",
              "      <th>3</th>\n",
              "      <td>2004-03-10</td>\n",
              "      <td>21:00:00</td>\n",
              "      <td>2.2</td>\n",
              "      <td>1375.50</td>\n",
              "      <td>80</td>\n",
              "      <td>9.228796</td>\n",
              "      <td>948.25</td>\n",
              "      <td>172.0</td>\n",
              "      <td>1092.00</td>\n",
              "      <td>122.0</td>\n",
              "      <td>1583.75</td>\n",
              "      <td>1203.25</td>\n",
              "      <td>11.00</td>\n",
              "      <td>60.000000</td>\n",
              "      <td>0.786713</td>\n",
              "    </tr>\n",
              "    <tr>\n",
              "      <th>4</th>\n",
              "      <td>2004-03-10</td>\n",
              "      <td>22:00:00</td>\n",
              "      <td>1.6</td>\n",
              "      <td>1272.25</td>\n",
              "      <td>51</td>\n",
              "      <td>6.518224</td>\n",
              "      <td>835.50</td>\n",
              "      <td>131.0</td>\n",
              "      <td>1205.00</td>\n",
              "      <td>116.0</td>\n",
              "      <td>1490.00</td>\n",
              "      <td>1110.00</td>\n",
              "      <td>11.15</td>\n",
              "      <td>59.575001</td>\n",
              "      <td>0.788794</td>\n",
              "    </tr>\n",
              "  </tbody>\n",
              "</table>\n",
              "</div>\n",
              "      <button class=\"colab-df-convert\" onclick=\"convertToInteractive('df-0019a040-147a-4421-b189-709c40c85c68')\"\n",
              "              title=\"Convert this dataframe to an interactive table.\"\n",
              "              style=\"display:none;\">\n",
              "        \n",
              "  <svg xmlns=\"http://www.w3.org/2000/svg\" height=\"24px\"viewBox=\"0 0 24 24\"\n",
              "       width=\"24px\">\n",
              "    <path d=\"M0 0h24v24H0V0z\" fill=\"none\"/>\n",
              "    <path d=\"M18.56 5.44l.94 2.06.94-2.06 2.06-.94-2.06-.94-.94-2.06-.94 2.06-2.06.94zm-11 1L8.5 8.5l.94-2.06 2.06-.94-2.06-.94L8.5 2.5l-.94 2.06-2.06.94zm10 10l.94 2.06.94-2.06 2.06-.94-2.06-.94-.94-2.06-.94 2.06-2.06.94z\"/><path d=\"M17.41 7.96l-1.37-1.37c-.4-.4-.92-.59-1.43-.59-.52 0-1.04.2-1.43.59L10.3 9.45l-7.72 7.72c-.78.78-.78 2.05 0 2.83L4 21.41c.39.39.9.59 1.41.59.51 0 1.02-.2 1.41-.59l7.78-7.78 2.81-2.81c.8-.78.8-2.07 0-2.86zM5.41 20L4 18.59l7.72-7.72 1.47 1.35L5.41 20z\"/>\n",
              "  </svg>\n",
              "      </button>\n",
              "      \n",
              "  <style>\n",
              "    .colab-df-container {\n",
              "      display:flex;\n",
              "      flex-wrap:wrap;\n",
              "      gap: 12px;\n",
              "    }\n",
              "\n",
              "    .colab-df-convert {\n",
              "      background-color: #E8F0FE;\n",
              "      border: none;\n",
              "      border-radius: 50%;\n",
              "      cursor: pointer;\n",
              "      display: none;\n",
              "      fill: #1967D2;\n",
              "      height: 32px;\n",
              "      padding: 0 0 0 0;\n",
              "      width: 32px;\n",
              "    }\n",
              "\n",
              "    .colab-df-convert:hover {\n",
              "      background-color: #E2EBFA;\n",
              "      box-shadow: 0px 1px 2px rgba(60, 64, 67, 0.3), 0px 1px 3px 1px rgba(60, 64, 67, 0.15);\n",
              "      fill: #174EA6;\n",
              "    }\n",
              "\n",
              "    [theme=dark] .colab-df-convert {\n",
              "      background-color: #3B4455;\n",
              "      fill: #D2E3FC;\n",
              "    }\n",
              "\n",
              "    [theme=dark] .colab-df-convert:hover {\n",
              "      background-color: #434B5C;\n",
              "      box-shadow: 0px 1px 3px 1px rgba(0, 0, 0, 0.15);\n",
              "      filter: drop-shadow(0px 1px 2px rgba(0, 0, 0, 0.3));\n",
              "      fill: #FFFFFF;\n",
              "    }\n",
              "  </style>\n",
              "\n",
              "      <script>\n",
              "        const buttonEl =\n",
              "          document.querySelector('#df-0019a040-147a-4421-b189-709c40c85c68 button.colab-df-convert');\n",
              "        buttonEl.style.display =\n",
              "          google.colab.kernel.accessAllowed ? 'block' : 'none';\n",
              "\n",
              "        async function convertToInteractive(key) {\n",
              "          const element = document.querySelector('#df-0019a040-147a-4421-b189-709c40c85c68');\n",
              "          const dataTable =\n",
              "            await google.colab.kernel.invokeFunction('convertToInteractive',\n",
              "                                                     [key], {});\n",
              "          if (!dataTable) return;\n",
              "\n",
              "          const docLinkHtml = 'Like what you see? Visit the ' +\n",
              "            '<a target=\"_blank\" href=https://colab.research.google.com/notebooks/data_table.ipynb>data table notebook</a>'\n",
              "            + ' to learn more about interactive tables.';\n",
              "          element.innerHTML = '';\n",
              "          dataTable['output_type'] = 'display_data';\n",
              "          await google.colab.output.renderOutput(dataTable, element);\n",
              "          const docLink = document.createElement('div');\n",
              "          docLink.innerHTML = docLinkHtml;\n",
              "          element.appendChild(docLink);\n",
              "        }\n",
              "      </script>\n",
              "    </div>\n",
              "  </div>\n",
              "  "
            ]
          },
          "metadata": {},
          "execution_count": 2
        }
      ]
    },
    {
      "cell_type": "code",
      "source": [
        "df.info()"
      ],
      "metadata": {
        "colab": {
          "base_uri": "https://localhost:8080/"
        },
        "id": "wcFSBhba-aJf",
        "outputId": "7717f2aa-d793-462a-8012-ba6bb3951cf5"
      },
      "execution_count": 3,
      "outputs": [
        {
          "output_type": "stream",
          "name": "stdout",
          "text": [
            "<class 'pandas.core.frame.DataFrame'>\n",
            "RangeIndex: 9357 entries, 0 to 9356\n",
            "Data columns (total 15 columns):\n",
            " #   Column         Non-Null Count  Dtype         \n",
            "---  ------         --------------  -----         \n",
            " 0   Date           9357 non-null   datetime64[ns]\n",
            " 1   Time           9357 non-null   object        \n",
            " 2   CO(GT)         9357 non-null   float64       \n",
            " 3   PT08.S1(CO)    9357 non-null   float64       \n",
            " 4   NMHC(GT)       9357 non-null   int64         \n",
            " 5   C6H6(GT)       9357 non-null   float64       \n",
            " 6   PT08.S2(NMHC)  9357 non-null   float64       \n",
            " 7   NOx(GT)        9357 non-null   float64       \n",
            " 8   PT08.S3(NOx)   9357 non-null   float64       \n",
            " 9   NO2(GT)        9357 non-null   float64       \n",
            " 10  PT08.S4(NO2)   9357 non-null   float64       \n",
            " 11  PT08.S5(O3)    9357 non-null   float64       \n",
            " 12  T              9357 non-null   float64       \n",
            " 13  RH             9357 non-null   float64       \n",
            " 14  AH             9357 non-null   float64       \n",
            "dtypes: datetime64[ns](1), float64(12), int64(1), object(1)\n",
            "memory usage: 1.1+ MB\n"
          ]
        }
      ]
    },
    {
      "cell_type": "code",
      "source": [
        "df_baru = df[['Date', 'RH']]\n",
        "df_baru = df_baru.dropna()\n",
        "df_baru.head()"
      ],
      "metadata": {
        "colab": {
          "base_uri": "https://localhost:8080/",
          "height": 206
        },
        "id": "EnrZ33o8m9CT",
        "outputId": "138e2330-5ff8-45ac-f367-31f4f555de47"
      },
      "execution_count": 4,
      "outputs": [
        {
          "output_type": "execute_result",
          "data": {
            "text/plain": [
              "        Date         RH\n",
              "0 2004-03-10  48.875001\n",
              "1 2004-03-10  47.700000\n",
              "2 2004-03-10  53.975000\n",
              "3 2004-03-10  60.000000\n",
              "4 2004-03-10  59.575001"
            ],
            "text/html": [
              "\n",
              "  <div id=\"df-902b007b-00cd-4b38-af5d-974b7cba9f53\">\n",
              "    <div class=\"colab-df-container\">\n",
              "      <div>\n",
              "<style scoped>\n",
              "    .dataframe tbody tr th:only-of-type {\n",
              "        vertical-align: middle;\n",
              "    }\n",
              "\n",
              "    .dataframe tbody tr th {\n",
              "        vertical-align: top;\n",
              "    }\n",
              "\n",
              "    .dataframe thead th {\n",
              "        text-align: right;\n",
              "    }\n",
              "</style>\n",
              "<table border=\"1\" class=\"dataframe\">\n",
              "  <thead>\n",
              "    <tr style=\"text-align: right;\">\n",
              "      <th></th>\n",
              "      <th>Date</th>\n",
              "      <th>RH</th>\n",
              "    </tr>\n",
              "  </thead>\n",
              "  <tbody>\n",
              "    <tr>\n",
              "      <th>0</th>\n",
              "      <td>2004-03-10</td>\n",
              "      <td>48.875001</td>\n",
              "    </tr>\n",
              "    <tr>\n",
              "      <th>1</th>\n",
              "      <td>2004-03-10</td>\n",
              "      <td>47.700000</td>\n",
              "    </tr>\n",
              "    <tr>\n",
              "      <th>2</th>\n",
              "      <td>2004-03-10</td>\n",
              "      <td>53.975000</td>\n",
              "    </tr>\n",
              "    <tr>\n",
              "      <th>3</th>\n",
              "      <td>2004-03-10</td>\n",
              "      <td>60.000000</td>\n",
              "    </tr>\n",
              "    <tr>\n",
              "      <th>4</th>\n",
              "      <td>2004-03-10</td>\n",
              "      <td>59.575001</td>\n",
              "    </tr>\n",
              "  </tbody>\n",
              "</table>\n",
              "</div>\n",
              "      <button class=\"colab-df-convert\" onclick=\"convertToInteractive('df-902b007b-00cd-4b38-af5d-974b7cba9f53')\"\n",
              "              title=\"Convert this dataframe to an interactive table.\"\n",
              "              style=\"display:none;\">\n",
              "        \n",
              "  <svg xmlns=\"http://www.w3.org/2000/svg\" height=\"24px\"viewBox=\"0 0 24 24\"\n",
              "       width=\"24px\">\n",
              "    <path d=\"M0 0h24v24H0V0z\" fill=\"none\"/>\n",
              "    <path d=\"M18.56 5.44l.94 2.06.94-2.06 2.06-.94-2.06-.94-.94-2.06-.94 2.06-2.06.94zm-11 1L8.5 8.5l.94-2.06 2.06-.94-2.06-.94L8.5 2.5l-.94 2.06-2.06.94zm10 10l.94 2.06.94-2.06 2.06-.94-2.06-.94-.94-2.06-.94 2.06-2.06.94z\"/><path d=\"M17.41 7.96l-1.37-1.37c-.4-.4-.92-.59-1.43-.59-.52 0-1.04.2-1.43.59L10.3 9.45l-7.72 7.72c-.78.78-.78 2.05 0 2.83L4 21.41c.39.39.9.59 1.41.59.51 0 1.02-.2 1.41-.59l7.78-7.78 2.81-2.81c.8-.78.8-2.07 0-2.86zM5.41 20L4 18.59l7.72-7.72 1.47 1.35L5.41 20z\"/>\n",
              "  </svg>\n",
              "      </button>\n",
              "      \n",
              "  <style>\n",
              "    .colab-df-container {\n",
              "      display:flex;\n",
              "      flex-wrap:wrap;\n",
              "      gap: 12px;\n",
              "    }\n",
              "\n",
              "    .colab-df-convert {\n",
              "      background-color: #E8F0FE;\n",
              "      border: none;\n",
              "      border-radius: 50%;\n",
              "      cursor: pointer;\n",
              "      display: none;\n",
              "      fill: #1967D2;\n",
              "      height: 32px;\n",
              "      padding: 0 0 0 0;\n",
              "      width: 32px;\n",
              "    }\n",
              "\n",
              "    .colab-df-convert:hover {\n",
              "      background-color: #E2EBFA;\n",
              "      box-shadow: 0px 1px 2px rgba(60, 64, 67, 0.3), 0px 1px 3px 1px rgba(60, 64, 67, 0.15);\n",
              "      fill: #174EA6;\n",
              "    }\n",
              "\n",
              "    [theme=dark] .colab-df-convert {\n",
              "      background-color: #3B4455;\n",
              "      fill: #D2E3FC;\n",
              "    }\n",
              "\n",
              "    [theme=dark] .colab-df-convert:hover {\n",
              "      background-color: #434B5C;\n",
              "      box-shadow: 0px 1px 3px 1px rgba(0, 0, 0, 0.15);\n",
              "      filter: drop-shadow(0px 1px 2px rgba(0, 0, 0, 0.3));\n",
              "      fill: #FFFFFF;\n",
              "    }\n",
              "  </style>\n",
              "\n",
              "      <script>\n",
              "        const buttonEl =\n",
              "          document.querySelector('#df-902b007b-00cd-4b38-af5d-974b7cba9f53 button.colab-df-convert');\n",
              "        buttonEl.style.display =\n",
              "          google.colab.kernel.accessAllowed ? 'block' : 'none';\n",
              "\n",
              "        async function convertToInteractive(key) {\n",
              "          const element = document.querySelector('#df-902b007b-00cd-4b38-af5d-974b7cba9f53');\n",
              "          const dataTable =\n",
              "            await google.colab.kernel.invokeFunction('convertToInteractive',\n",
              "                                                     [key], {});\n",
              "          if (!dataTable) return;\n",
              "\n",
              "          const docLinkHtml = 'Like what you see? Visit the ' +\n",
              "            '<a target=\"_blank\" href=https://colab.research.google.com/notebooks/data_table.ipynb>data table notebook</a>'\n",
              "            + ' to learn more about interactive tables.';\n",
              "          element.innerHTML = '';\n",
              "          dataTable['output_type'] = 'display_data';\n",
              "          await google.colab.output.renderOutput(dataTable, element);\n",
              "          const docLink = document.createElement('div');\n",
              "          docLink.innerHTML = docLinkHtml;\n",
              "          element.appendChild(docLink);\n",
              "        }\n",
              "      </script>\n",
              "    </div>\n",
              "  </div>\n",
              "  "
            ]
          },
          "metadata": {},
          "execution_count": 4
        }
      ]
    },
    {
      "cell_type": "code",
      "source": [
        "df_baru.isnull().sum()"
      ],
      "metadata": {
        "colab": {
          "base_uri": "https://localhost:8080/"
        },
        "id": "p-FMk0F2nHbH",
        "outputId": "bd7237bc-ad51-42a3-c128-420f11c81159"
      },
      "execution_count": 6,
      "outputs": [
        {
          "output_type": "execute_result",
          "data": {
            "text/plain": [
              "Date    0\n",
              "RH      0\n",
              "dtype: int64"
            ]
          },
          "metadata": {},
          "execution_count": 6
        }
      ]
    },
    {
      "cell_type": "markdown",
      "source": [
        "# Visual Inspection"
      ],
      "metadata": {
        "id": "1r2ym7lyXtuC"
      }
    },
    {
      "cell_type": "code",
      "source": [
        "import matplotlib.pyplot as plt\n",
        "\n",
        "date = df_baru['Date'].values\n",
        "rh  = df_baru['RH'].values\n",
        " \n",
        "plt.figure(figsize=(15,5))\n",
        "plt.plot(date, rh)\n",
        "plt.title('Relative Humidity',\n",
        "          fontsize=18);"
      ],
      "metadata": {
        "colab": {
          "base_uri": "https://localhost:8080/",
          "height": 340
        },
        "id": "Ut_H6IvKDtoM",
        "outputId": "4af8760f-d419-45e5-de29-88126d72d508"
      },
      "execution_count": 9,
      "outputs": [
        {
          "output_type": "display_data",
          "data": {
            "text/plain": [
              "<Figure size 1080x360 with 1 Axes>"
            ],
            "image/png": "[encoded data removed]"
          },
          "metadata": {
            "needs_background": "light"
          }
        }
      ]
    },
    {
      "cell_type": "markdown",
      "source": [
        "# Prepare Data"
      ],
      "metadata": {
        "id": "t1l9mD6oX2mc"
      }
    },
    {
      "cell_type": "code",
      "source": [
        "df_baru = df_baru.astype({\"RH\": float})"
      ],
      "metadata": {
        "id": "F4l69bEDBqUZ"
      },
      "execution_count": 10,
      "outputs": []
    },
    {
      "cell_type": "code",
      "source": [
        "rh"
      ],
      "metadata": {
        "colab": {
          "base_uri": "https://localhost:8080/"
        },
        "id": "wIXB9VZoBveU",
        "outputId": "745c59cd-5464-4c4a-8cef-6d55d71a9499"
      },
      "execution_count": 11,
      "outputs": [
        {
          "output_type": "execute_result",
          "data": {
            "text/plain": [
              "array([48.87500095, 47.69999981, 53.97500038, ..., 18.34999967,\n",
              "       13.54999995, 13.125     ])"
            ]
          },
          "metadata": {},
          "execution_count": 11
        }
      ]
    },
    {
      "cell_type": "code",
      "source": [
        "rh1 = rh.reshape(-1,1)\n",
        "rh1"
      ],
      "metadata": {
        "colab": {
          "base_uri": "https://localhost:8080/"
        },
        "id": "6aBTApnnFWPJ",
        "outputId": "82bb4f6a-d982-41cf-8df6-77607b0d52fc"
      },
      "execution_count": 12,
      "outputs": [
        {
          "output_type": "execute_result",
          "data": {
            "text/plain": [
              "array([[48.87500095],\n",
              "       [47.69999981],\n",
              "       [53.97500038],\n",
              "       ...,\n",
              "       [18.34999967],\n",
              "       [13.54999995],\n",
              "       [13.125     ]])"
            ]
          },
          "metadata": {},
          "execution_count": 12
        }
      ]
    },
    {
      "cell_type": "code",
      "source": [
        "from sklearn.preprocessing import MinMaxScaler\n",
        "from sklearn.preprocessing import StandardScaler\n",
        "\n",
        "min_max_scaler = StandardScaler()\n",
        "rh = min_max_scaler.fit_transform(rh1)\n",
        "rh"
      ],
      "metadata": {
        "colab": {
          "base_uri": "https://localhost:8080/"
        },
        "id": "LC-eWeyHnJUB",
        "outputId": "7a0dc95c-6c21-44a6-c184-9aaae9a06107"
      },
      "execution_count": 13,
      "outputs": [
        {
          "output_type": "execute_result",
          "data": {
            "text/plain": [
              "array([[ 0.18337935],\n",
              "       [ 0.16043589],\n",
              "       [ 0.28296361],\n",
              "       ...,\n",
              "       [-0.41266181],\n",
              "       [-0.50638818],\n",
              "       [-0.51468687]])"
            ]
          },
          "metadata": {},
          "execution_count": 13
        }
      ]
    },
    {
      "cell_type": "markdown",
      "source": [
        "# Training and Testing "
      ],
      "metadata": {
        "id": "T6BeRmiAX94x"
      }
    },
    {
      "cell_type": "code",
      "source": [
        "from sklearn.model_selection import train_test_split\n",
        "\n",
        "rh_latih, rh_test = train_test_split(rh, test_size=0.2, shuffle=False)\n",
        "print(rh_latih.shape, rh_test.shape)"
      ],
      "metadata": {
        "colab": {
          "base_uri": "https://localhost:8080/"
        },
        "id": "FWnof6YPF-1c",
        "outputId": "61e84434-591d-4693-95ef-5c268efd72e1"
      },
      "execution_count": 17,
      "outputs": [
        {
          "output_type": "stream",
          "name": "stdout",
          "text": [
            "(7485,) (1872,)\n"
          ]
        }
      ]
    },
    {
      "cell_type": "code",
      "source": [
        "import tensorflow as tf\n",
        "\n",
        "def windowed_dataset(series, window_size, batch_size, shuffle_buffer):\n",
        "    series = tf.expand_dims(series, axis=-1)\n",
        "    ds = tf.data.Dataset.from_tensor_slices(series)\n",
        "    ds = ds.window(window_size + 1, shift=1, drop_remainder=True)\n",
        "    ds = ds.flat_map(lambda w: w.batch(window_size + 1))\n",
        "    ds = ds.shuffle(shuffle_buffer)\n",
        "    ds = ds.map(lambda w: (w[:-1], w[-1:]))\n",
        "    return ds.batch(batch_size).prefetch(1)\n",
        "\n",
        "train_set = windowed_dataset(rh_latih, window_size=60, batch_size=128, shuffle_buffer=1000)\n",
        "test_set = windowed_dataset(rh_test, window_size=60, batch_size=128, shuffle_buffer=1000)"
      ],
      "metadata": {
        "id": "FKPdEiULGdsP"
      },
      "execution_count": 25,
      "outputs": []
    },
    {
      "cell_type": "markdown",
      "source": [
        "# Create Model"
      ],
      "metadata": {
        "id": "Rsez-8xGYGAK"
      }
    },
    {
      "cell_type": "code",
      "source": [
        "from tensorflow.keras.models import Sequential\n",
        "from tensorflow.keras.layers import LSTM, Dropout, Dense\n",
        "from tensorflow.keras.callbacks import EarlyStopping"
      ],
      "metadata": {
        "id": "juHoJG-OIL-Q"
      },
      "execution_count": 28,
      "outputs": []
    },
    {
      "cell_type": "code",
      "source": [
        "mycallback = EarlyStopping(monitor=\"val_loss\", mode=\"min\", patience=2)"
      ],
      "metadata": {
        "id": "pksk9puSLQd7"
      },
      "execution_count": 29,
      "outputs": []
    },
    {
      "cell_type": "code",
      "source": [
        "model = Sequential()\n",
        "model.add(LSTM(64, return_sequences=True))\n",
        "model.add(LSTM(64))\n",
        "model.add(Dense(30, activation='relu'))\n",
        "model.add(Dropout(0.5))\n",
        "model.add(Dense(10, activation='relu'))\n",
        "model.add(Dense(1))\n",
        "\n",
        "model.compile(optimizer=tf.keras.optimizers.SGD(lr=1.0000e-04, momentum=0.9),\n",
        "              loss=tf.keras.losses.Huber(), metrics=['mae'])"
      ],
      "metadata": {
        "id": "TsHubk1YLQEw"
      },
      "execution_count": 36,
      "outputs": []
    },
    {
      "cell_type": "code",
      "source": [
        "history = model.fit(train_set, validation_data=(test_set), \n",
        "                    epochs=100, callbacks=mycallback)"
      ],
      "metadata": {
        "colab": {
          "base_uri": "https://localhost:8080/"
        },
        "id": "kUYezWkzOsko",
        "outputId": "6ded9ffd-f802-4266-edf1-c6a4bb14c8fc"
      },
      "execution_count": 37,
      "outputs": [
        {
          "output_type": "stream",
          "name": "stdout",
          "text": [
            "Epoch 1/100\n",
            "59/59 [==============================] - 17s 200ms/step - loss: 0.2341 - mae: 0.4920 - val_loss: 0.2702 - val_mae: 0.5133\n",
            "Epoch 2/100\n",
            "59/59 [==============================] - 11s 185ms/step - loss: 0.2297 - mae: 0.4834 - val_loss: 0.2655 - val_mae: 0.5047\n",
            "Epoch 3/100\n",
            "59/59 [==============================] - 11s 186ms/step - loss: 0.2266 - mae: 0.4768 - val_loss: 0.2616 - val_mae: 0.4979\n",
            "Epoch 4/100\n",
            "59/59 [==============================] - 12s 206ms/step - loss: 0.2233 - mae: 0.4709 - val_loss: 0.2579 - val_mae: 0.4922\n",
            "Epoch 5/100\n",
            "59/59 [==============================] - 11s 187ms/step - loss: 0.2215 - mae: 0.4669 - val_loss: 0.2552 - val_mae: 0.4873\n",
            "Epoch 6/100\n",
            "59/59 [==============================] - 11s 187ms/step - loss: 0.2196 - mae: 0.4634 - val_loss: 0.2530 - val_mae: 0.4836\n",
            "Epoch 7/100\n",
            "59/59 [==============================] - 11s 189ms/step - loss: 0.2177 - mae: 0.4595 - val_loss: 0.2511 - val_mae: 0.4803\n",
            "Epoch 8/100\n",
            "59/59 [==============================] - 13s 221ms/step - loss: 0.2163 - mae: 0.4570 - val_loss: 0.2495 - val_mae: 0.4776\n",
            "Epoch 9/100\n",
            "59/59 [==============================] - 11s 186ms/step - loss: 0.2152 - mae: 0.4545 - val_loss: 0.2483 - val_mae: 0.4753\n",
            "Epoch 10/100\n",
            "59/59 [==============================] - 11s 186ms/step - loss: 0.2141 - mae: 0.4528 - val_loss: 0.2470 - val_mae: 0.4733\n",
            "Epoch 11/100\n",
            "59/59 [==============================] - 11s 184ms/step - loss: 0.2137 - mae: 0.4513 - val_loss: 0.2459 - val_mae: 0.4715\n",
            "Epoch 12/100\n",
            "59/59 [==============================] - 11s 186ms/step - loss: 0.2129 - mae: 0.4492 - val_loss: 0.2449 - val_mae: 0.4699\n",
            "Epoch 13/100\n",
            "59/59 [==============================] - 13s 220ms/step - loss: 0.2124 - mae: 0.4481 - val_loss: 0.2440 - val_mae: 0.4683\n",
            "Epoch 14/100\n",
            "59/59 [==============================] - 11s 188ms/step - loss: 0.2114 - mae: 0.4462 - val_loss: 0.2432 - val_mae: 0.4669\n",
            "Epoch 15/100\n",
            "59/59 [==============================] - 11s 187ms/step - loss: 0.2108 - mae: 0.4449 - val_loss: 0.2424 - val_mae: 0.4655\n",
            "Epoch 16/100\n",
            "59/59 [==============================] - 11s 189ms/step - loss: 0.2092 - mae: 0.4426 - val_loss: 0.2415 - val_mae: 0.4641\n",
            "Epoch 17/100\n",
            "59/59 [==============================] - 11s 190ms/step - loss: 0.2092 - mae: 0.4424 - val_loss: 0.2407 - val_mae: 0.4629\n",
            "Epoch 18/100\n",
            "59/59 [==============================] - 11s 188ms/step - loss: 0.2092 - mae: 0.4417 - val_loss: 0.2400 - val_mae: 0.4617\n",
            "Epoch 19/100\n",
            "59/59 [==============================] - 11s 186ms/step - loss: 0.2084 - mae: 0.4400 - val_loss: 0.2393 - val_mae: 0.4607\n",
            "Epoch 20/100\n",
            "59/59 [==============================] - 11s 184ms/step - loss: 0.2067 - mae: 0.4381 - val_loss: 0.2386 - val_mae: 0.4595\n",
            "Epoch 21/100\n",
            "59/59 [==============================] - 11s 188ms/step - loss: 0.2067 - mae: 0.4374 - val_loss: 0.2379 - val_mae: 0.4585\n",
            "Epoch 22/100\n",
            "59/59 [==============================] - 11s 187ms/step - loss: 0.2058 - mae: 0.4361 - val_loss: 0.2372 - val_mae: 0.4575\n",
            "Epoch 23/100\n",
            "59/59 [==============================] - 11s 188ms/step - loss: 0.2051 - mae: 0.4345 - val_loss: 0.2366 - val_mae: 0.4567\n",
            "Epoch 24/100\n",
            "59/59 [==============================] - 11s 190ms/step - loss: 0.2048 - mae: 0.4340 - val_loss: 0.2360 - val_mae: 0.4559\n",
            "Epoch 25/100\n",
            "59/59 [==============================] - 11s 187ms/step - loss: 0.2049 - mae: 0.4340 - val_loss: 0.2355 - val_mae: 0.4551\n",
            "Epoch 26/100\n",
            "59/59 [==============================] - 11s 185ms/step - loss: 0.2046 - mae: 0.4334 - val_loss: 0.2349 - val_mae: 0.4542\n",
            "Epoch 27/100\n",
            "59/59 [==============================] - 11s 185ms/step - loss: 0.2037 - mae: 0.4319 - val_loss: 0.2343 - val_mae: 0.4533\n",
            "Epoch 28/100\n",
            "59/59 [==============================] - 11s 186ms/step - loss: 0.2033 - mae: 0.4311 - val_loss: 0.2337 - val_mae: 0.4525\n",
            "Epoch 29/100\n",
            "59/59 [==============================] - 11s 187ms/step - loss: 0.2022 - mae: 0.4296 - val_loss: 0.2331 - val_mae: 0.4517\n",
            "Epoch 30/100\n",
            "59/59 [==============================] - 11s 187ms/step - loss: 0.2023 - mae: 0.4294 - val_loss: 0.2325 - val_mae: 0.4508\n",
            "Epoch 31/100\n",
            "59/59 [==============================] - 11s 189ms/step - loss: 0.2026 - mae: 0.4295 - val_loss: 0.2321 - val_mae: 0.4502\n",
            "Epoch 32/100\n",
            "59/59 [==============================] - 11s 187ms/step - loss: 0.2017 - mae: 0.4284 - val_loss: 0.2316 - val_mae: 0.4494\n",
            "Epoch 33/100\n",
            "59/59 [==============================] - 13s 213ms/step - loss: 0.2010 - mae: 0.4268 - val_loss: 0.2311 - val_mae: 0.4486\n",
            "Epoch 34/100\n",
            "59/59 [==============================] - 11s 185ms/step - loss: 0.2001 - mae: 0.4254 - val_loss: 0.2305 - val_mae: 0.4478\n",
            "Epoch 35/100\n",
            "59/59 [==============================] - 11s 185ms/step - loss: 0.2003 - mae: 0.4253 - val_loss: 0.2299 - val_mae: 0.4470\n",
            "Epoch 36/100\n",
            "59/59 [==============================] - 11s 184ms/step - loss: 0.1993 - mae: 0.4244 - val_loss: 0.2292 - val_mae: 0.4461\n",
            "Epoch 37/100\n",
            "59/59 [==============================] - 13s 223ms/step - loss: 0.1987 - mae: 0.4226 - val_loss: 0.2286 - val_mae: 0.4453\n",
            "Epoch 38/100\n",
            "59/59 [==============================] - 11s 187ms/step - loss: 0.1984 - mae: 0.4229 - val_loss: 0.2281 - val_mae: 0.4445\n",
            "Epoch 39/100\n",
            "59/59 [==============================] - 11s 186ms/step - loss: 0.1978 - mae: 0.4219 - val_loss: 0.2275 - val_mae: 0.4437\n",
            "Epoch 40/100\n",
            "59/59 [==============================] - 11s 192ms/step - loss: 0.1974 - mae: 0.4208 - val_loss: 0.2270 - val_mae: 0.4429\n",
            "Epoch 41/100\n",
            "59/59 [==============================] - 11s 188ms/step - loss: 0.1975 - mae: 0.4198 - val_loss: 0.2265 - val_mae: 0.4421\n",
            "Epoch 42/100\n",
            "59/59 [==============================] - 11s 185ms/step - loss: 0.1965 - mae: 0.4196 - val_loss: 0.2259 - val_mae: 0.4414\n",
            "Epoch 43/100\n",
            "59/59 [==============================] - 11s 187ms/step - loss: 0.1955 - mae: 0.4176 - val_loss: 0.2253 - val_mae: 0.4407\n",
            "Epoch 44/100\n",
            "59/59 [==============================] - 11s 187ms/step - loss: 0.1969 - mae: 0.4195 - val_loss: 0.2248 - val_mae: 0.4399\n",
            "Epoch 45/100\n",
            "59/59 [==============================] - 15s 247ms/step - loss: 0.1950 - mae: 0.4163 - val_loss: 0.2242 - val_mae: 0.4391\n",
            "Epoch 46/100\n",
            "59/59 [==============================] - 13s 218ms/step - loss: 0.1940 - mae: 0.4156 - val_loss: 0.2236 - val_mae: 0.4385\n",
            "Epoch 47/100\n",
            "59/59 [==============================] - 11s 189ms/step - loss: 0.1950 - mae: 0.4164 - val_loss: 0.2231 - val_mae: 0.4377\n",
            "Epoch 48/100\n",
            "59/59 [==============================] - 11s 186ms/step - loss: 0.1938 - mae: 0.4145 - val_loss: 0.2225 - val_mae: 0.4368\n",
            "Epoch 49/100\n",
            "59/59 [==============================] - 13s 223ms/step - loss: 0.1938 - mae: 0.4140 - val_loss: 0.2217 - val_mae: 0.4358\n",
            "Epoch 50/100\n",
            "59/59 [==============================] - 11s 188ms/step - loss: 0.1927 - mae: 0.4126 - val_loss: 0.2211 - val_mae: 0.4350\n",
            "Epoch 51/100\n",
            "59/59 [==============================] - 12s 192ms/step - loss: 0.1919 - mae: 0.4124 - val_loss: 0.2202 - val_mae: 0.4341\n",
            "Epoch 52/100\n",
            "59/59 [==============================] - 11s 188ms/step - loss: 0.1912 - mae: 0.4110 - val_loss: 0.2196 - val_mae: 0.4332\n",
            "Epoch 53/100\n",
            "59/59 [==============================] - 11s 188ms/step - loss: 0.1917 - mae: 0.4111 - val_loss: 0.2191 - val_mae: 0.4324\n",
            "Epoch 54/100\n",
            "59/59 [==============================] - 11s 185ms/step - loss: 0.1904 - mae: 0.4093 - val_loss: 0.2185 - val_mae: 0.4317\n",
            "Epoch 55/100\n",
            "59/59 [==============================] - 11s 186ms/step - loss: 0.1906 - mae: 0.4090 - val_loss: 0.2180 - val_mae: 0.4309\n",
            "Epoch 56/100\n",
            "59/59 [==============================] - 11s 185ms/step - loss: 0.1901 - mae: 0.4086 - val_loss: 0.2174 - val_mae: 0.4301\n",
            "Epoch 57/100\n",
            "59/59 [==============================] - 11s 187ms/step - loss: 0.1893 - mae: 0.4067 - val_loss: 0.2168 - val_mae: 0.4293\n",
            "Epoch 58/100\n",
            "59/59 [==============================] - 11s 190ms/step - loss: 0.1896 - mae: 0.4075 - val_loss: 0.2159 - val_mae: 0.4284\n",
            "Epoch 59/100\n",
            "59/59 [==============================] - 11s 186ms/step - loss: 0.1889 - mae: 0.4056 - val_loss: 0.2154 - val_mae: 0.4276\n",
            "Epoch 60/100\n",
            "59/59 [==============================] - 13s 220ms/step - loss: 0.1879 - mae: 0.4050 - val_loss: 0.2148 - val_mae: 0.4269\n",
            "Epoch 61/100\n",
            "59/59 [==============================] - 11s 188ms/step - loss: 0.1876 - mae: 0.4047 - val_loss: 0.2142 - val_mae: 0.4260\n",
            "Epoch 62/100\n",
            "59/59 [==============================] - 11s 189ms/step - loss: 0.1870 - mae: 0.4034 - val_loss: 0.2137 - val_mae: 0.4253\n",
            "Epoch 63/100\n",
            "59/59 [==============================] - 11s 182ms/step - loss: 0.1862 - mae: 0.4025 - val_loss: 0.2131 - val_mae: 0.4245\n",
            "Epoch 64/100\n",
            "59/59 [==============================] - 11s 186ms/step - loss: 0.1857 - mae: 0.4017 - val_loss: 0.2126 - val_mae: 0.4237\n",
            "Epoch 65/100\n",
            "59/59 [==============================] - 11s 187ms/step - loss: 0.1864 - mae: 0.4016 - val_loss: 0.2120 - val_mae: 0.4230\n",
            "Epoch 66/100\n",
            "59/59 [==============================] - 11s 185ms/step - loss: 0.1856 - mae: 0.4019 - val_loss: 0.2114 - val_mae: 0.4223\n",
            "Epoch 67/100\n",
            "59/59 [==============================] - 11s 184ms/step - loss: 0.1860 - mae: 0.4010 - val_loss: 0.2109 - val_mae: 0.4214\n",
            "Epoch 68/100\n",
            "59/59 [==============================] - 11s 185ms/step - loss: 0.1846 - mae: 0.3995 - val_loss: 0.2103 - val_mae: 0.4208\n",
            "Epoch 69/100\n",
            "59/59 [==============================] - 11s 188ms/step - loss: 0.1851 - mae: 0.3992 - val_loss: 0.2098 - val_mae: 0.4201\n",
            "Epoch 70/100\n",
            "59/59 [==============================] - 11s 188ms/step - loss: 0.1823 - mae: 0.3971 - val_loss: 0.2092 - val_mae: 0.4194\n",
            "Epoch 71/100\n",
            "59/59 [==============================] - 13s 222ms/step - loss: 0.1831 - mae: 0.3977 - val_loss: 0.2087 - val_mae: 0.4188\n",
            "Epoch 72/100\n",
            "59/59 [==============================] - 11s 187ms/step - loss: 0.1834 - mae: 0.3975 - val_loss: 0.2081 - val_mae: 0.4180\n",
            "Epoch 73/100\n",
            "59/59 [==============================] - 11s 188ms/step - loss: 0.1822 - mae: 0.3964 - val_loss: 0.2075 - val_mae: 0.4172\n",
            "Epoch 74/100\n",
            "59/59 [==============================] - 11s 185ms/step - loss: 0.1829 - mae: 0.3964 - val_loss: 0.2070 - val_mae: 0.4164\n",
            "Epoch 75/100\n",
            "59/59 [==============================] - 11s 189ms/step - loss: 0.1809 - mae: 0.3948 - val_loss: 0.2064 - val_mae: 0.4157\n",
            "Epoch 76/100\n",
            "59/59 [==============================] - 11s 186ms/step - loss: 0.1800 - mae: 0.3932 - val_loss: 0.2058 - val_mae: 0.4148\n",
            "Epoch 77/100\n",
            "59/59 [==============================] - 11s 186ms/step - loss: 0.1808 - mae: 0.3935 - val_loss: 0.2052 - val_mae: 0.4142\n",
            "Epoch 78/100\n",
            "59/59 [==============================] - 11s 186ms/step - loss: 0.1798 - mae: 0.3921 - val_loss: 0.2046 - val_mae: 0.4133\n",
            "Epoch 79/100\n",
            "59/59 [==============================] - 12s 202ms/step - loss: 0.1799 - mae: 0.3927 - val_loss: 0.2041 - val_mae: 0.4126\n",
            "Epoch 80/100\n",
            "59/59 [==============================] - 11s 184ms/step - loss: 0.1792 - mae: 0.3912 - val_loss: 0.2035 - val_mae: 0.4118\n",
            "Epoch 81/100\n",
            "59/59 [==============================] - 11s 187ms/step - loss: 0.1798 - mae: 0.3914 - val_loss: 0.2029 - val_mae: 0.4112\n",
            "Epoch 82/100\n",
            "59/59 [==============================] - 11s 187ms/step - loss: 0.1758 - mae: 0.3870 - val_loss: 0.2023 - val_mae: 0.4105\n",
            "Epoch 83/100\n",
            "59/59 [==============================] - 13s 224ms/step - loss: 0.1767 - mae: 0.3882 - val_loss: 0.2017 - val_mae: 0.4100\n",
            "Epoch 84/100\n",
            "59/59 [==============================] - 11s 187ms/step - loss: 0.1786 - mae: 0.3903 - val_loss: 0.2011 - val_mae: 0.4092\n",
            "Epoch 85/100\n",
            "59/59 [==============================] - 11s 186ms/step - loss: 0.1768 - mae: 0.3891 - val_loss: 0.2005 - val_mae: 0.4086\n",
            "Epoch 86/100\n",
            "59/59 [==============================] - 11s 186ms/step - loss: 0.1767 - mae: 0.3868 - val_loss: 0.1999 - val_mae: 0.4078\n",
            "Epoch 87/100\n",
            "59/59 [==============================] - 11s 185ms/step - loss: 0.1755 - mae: 0.3872 - val_loss: 0.1993 - val_mae: 0.4070\n",
            "Epoch 88/100\n",
            "59/59 [==============================] - 11s 188ms/step - loss: 0.1759 - mae: 0.3870 - val_loss: 0.1987 - val_mae: 0.4062\n",
            "Epoch 89/100\n",
            "59/59 [==============================] - 11s 186ms/step - loss: 0.1778 - mae: 0.3885 - val_loss: 0.1982 - val_mae: 0.4056\n",
            "Epoch 90/100\n",
            "59/59 [==============================] - 11s 189ms/step - loss: 0.1726 - mae: 0.3833 - val_loss: 0.1975 - val_mae: 0.4052\n",
            "Epoch 91/100\n",
            "59/59 [==============================] - 11s 188ms/step - loss: 0.1742 - mae: 0.3849 - val_loss: 0.1969 - val_mae: 0.4044\n",
            "Epoch 92/100\n",
            "59/59 [==============================] - 11s 189ms/step - loss: 0.1742 - mae: 0.3842 - val_loss: 0.1963 - val_mae: 0.4036\n",
            "Epoch 93/100\n",
            "59/59 [==============================] - 11s 188ms/step - loss: 0.1734 - mae: 0.3826 - val_loss: 0.1958 - val_mae: 0.4030\n",
            "Epoch 94/100\n",
            "59/59 [==============================] - 11s 185ms/step - loss: 0.1746 - mae: 0.3843 - val_loss: 0.1952 - val_mae: 0.4021\n",
            "Epoch 95/100\n",
            "59/59 [==============================] - 11s 189ms/step - loss: 0.1722 - mae: 0.3818 - val_loss: 0.1945 - val_mae: 0.4014\n",
            "Epoch 96/100\n",
            "59/59 [==============================] - 13s 220ms/step - loss: 0.1719 - mae: 0.3813 - val_loss: 0.1939 - val_mae: 0.4006\n",
            "Epoch 97/100\n",
            "59/59 [==============================] - 11s 184ms/step - loss: 0.1716 - mae: 0.3800 - val_loss: 0.1933 - val_mae: 0.3999\n",
            "Epoch 98/100\n",
            "59/59 [==============================] - 11s 185ms/step - loss: 0.1729 - mae: 0.3824 - val_loss: 0.1927 - val_mae: 0.3992\n",
            "Epoch 99/100\n",
            "59/59 [==============================] - 11s 191ms/step - loss: 0.1715 - mae: 0.3804 - val_loss: 0.1921 - val_mae: 0.3984\n",
            "Epoch 100/100\n",
            "59/59 [==============================] - 11s 186ms/step - loss: 0.1695 - mae: 0.3790 - val_loss: 0.1914 - val_mae: 0.3976\n"
          ]
        }
      ]
    },
    {
      "cell_type": "markdown",
      "source": [
        "# Plotting MAE and loss"
      ],
      "metadata": {
        "id": "JXG0W2wsYKRE"
      }
    },
    {
      "cell_type": "code",
      "source": [
        "plt.plot(history.history['mae'])\n",
        "plt.plot(history.history['val_mae'])\n",
        "plt.title('model mae')\n",
        "plt.ylabel('mae')\n",
        "plt.xlabel('epoch')\n",
        "plt.legend(['Train', 'Validation'], loc='upper left')\n",
        "plt.show()"
      ],
      "metadata": {
        "colab": {
          "base_uri": "https://localhost:8080/",
          "height": 295
        },
        "id": "YwtfQn8sWThk",
        "outputId": "6e31ea2b-84bf-4688-e060-817d04e1de06"
      },
      "execution_count": 40,
      "outputs": [
        {
          "output_type": "display_data",
          "data": {
            "text/plain": [
              "<Figure size 432x288 with 1 Axes>"
            ],
            "image/png": "[encoded data removed]"
          },
          "metadata": {
            "needs_background": "light"
          }
        }
      ]
    },
    {
      "cell_type": "code",
      "source": [
        "plt.plot(history.history['loss'])\n",
        "plt.plot(history.history['val_loss'])\n",
        "plt.title('model loss')\n",
        "plt.ylabel('loss')\n",
        "plt.xlabel('epoch')\n",
        "plt.legend(['Train', 'Validation'], loc='upper left')\n",
        "plt.show()"
      ],
      "metadata": {
        "colab": {
          "base_uri": "https://localhost:8080/",
          "height": 295
        },
        "id": "RkzJUmM-WlIh",
        "outputId": "fd07a61a-44ee-48fc-dd0b-b0f833a770cc"
      },
      "execution_count": 41,
      "outputs": [
        {
          "output_type": "display_data",
          "data": {
            "text/plain": [
              "<Figure size 432x288 with 1 Axes>"
            ],
            "image/png": "[encoded data removed]"
          },
          "metadata": {
            "needs_background": "light"
          }
        }
      ]
    },
    {
      "cell_type": "markdown",
      "source": [
        "# Threshold MAE"
      ],
      "metadata": {
        "id": "aCS9QoS_YVAC"
      }
    },
    {
      "cell_type": "code",
      "source": [
        "threshold_mae = (rh.max() - rh.min()) * 10/100\n",
        "print(threshold_mae)"
      ],
      "metadata": {
        "colab": {
          "base_uri": "https://localhost:8080/"
        },
        "id": "UZUFFCPDWy4k",
        "outputId": "7aab240d-2df6-40a4-927a-1310ab6d79ee"
      },
      "execution_count": 42,
      "outputs": [
        {
          "output_type": "stream",
          "name": "stdout",
          "text": [
            "0.5637738839485721\n"
          ]
        }
      ]
    }
  ]
}